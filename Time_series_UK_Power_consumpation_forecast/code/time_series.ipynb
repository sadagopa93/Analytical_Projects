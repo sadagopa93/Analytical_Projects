{
 "cells": [
  {
   "cell_type": "code",
   "execution_count": 1,
   "id": "78c1fdda-c588-48fa-a1da-f9043ff63a0e",
   "metadata": {},
   "outputs": [],
   "source": [
    "import pandas as pd\n",
    "from datetime import datetime, timedelta\n",
    "import matplotlib.pyplot as plt\n",
    "from prophet import Prophet"
   ]
  },
  {
   "cell_type": "code",
   "execution_count": 2,
   "id": "2144f76a-7ab4-41db-9e86-3503b29e0cdc",
   "metadata": {},
   "outputs": [
    {
     "data": {
      "text/html": [
       "<div>\n",
       "<style scoped>\n",
       "    .dataframe tbody tr th:only-of-type {\n",
       "        vertical-align: middle;\n",
       "    }\n",
       "\n",
       "    .dataframe tbody tr th {\n",
       "        vertical-align: top;\n",
       "    }\n",
       "\n",
       "    .dataframe thead th {\n",
       "        text-align: right;\n",
       "    }\n",
       "</style>\n",
       "<table border=\"1\" class=\"dataframe\">\n",
       "  <thead>\n",
       "    <tr style=\"text-align: right;\">\n",
       "      <th></th>\n",
       "      <th>Unnamed: 0</th>\n",
       "      <th>settlement_date</th>\n",
       "      <th>settlement_period</th>\n",
       "      <th>nd</th>\n",
       "      <th>tsd</th>\n",
       "      <th>england_wales_demand</th>\n",
       "      <th>embedded_wind_generation</th>\n",
       "      <th>embedded_wind_capacity</th>\n",
       "      <th>embedded_solar_generation</th>\n",
       "      <th>embedded_solar_capacity</th>\n",
       "      <th>...</th>\n",
       "      <th>ifa2_flow</th>\n",
       "      <th>britned_flow</th>\n",
       "      <th>moyle_flow</th>\n",
       "      <th>east_west_flow</th>\n",
       "      <th>nemo_flow</th>\n",
       "      <th>nsl_flow</th>\n",
       "      <th>eleclink_flow</th>\n",
       "      <th>scottish_transfer</th>\n",
       "      <th>viking_flow</th>\n",
       "      <th>is_holiday</th>\n",
       "    </tr>\n",
       "  </thead>\n",
       "  <tbody>\n",
       "    <tr>\n",
       "      <th>0</th>\n",
       "      <td>0</td>\n",
       "      <td>2009-01-01</td>\n",
       "      <td>1</td>\n",
       "      <td>37910</td>\n",
       "      <td>38704</td>\n",
       "      <td>33939</td>\n",
       "      <td>54</td>\n",
       "      <td>1403</td>\n",
       "      <td>0</td>\n",
       "      <td>0</td>\n",
       "      <td>...</td>\n",
       "      <td>0</td>\n",
       "      <td>0</td>\n",
       "      <td>-161</td>\n",
       "      <td>0</td>\n",
       "      <td>0</td>\n",
       "      <td>NaN</td>\n",
       "      <td>NaN</td>\n",
       "      <td>NaN</td>\n",
       "      <td>NaN</td>\n",
       "      <td>1</td>\n",
       "    </tr>\n",
       "    <tr>\n",
       "      <th>1</th>\n",
       "      <td>1</td>\n",
       "      <td>2009-01-01</td>\n",
       "      <td>2</td>\n",
       "      <td>38047</td>\n",
       "      <td>38964</td>\n",
       "      <td>34072</td>\n",
       "      <td>53</td>\n",
       "      <td>1403</td>\n",
       "      <td>0</td>\n",
       "      <td>0</td>\n",
       "      <td>...</td>\n",
       "      <td>0</td>\n",
       "      <td>0</td>\n",
       "      <td>-160</td>\n",
       "      <td>0</td>\n",
       "      <td>0</td>\n",
       "      <td>NaN</td>\n",
       "      <td>NaN</td>\n",
       "      <td>NaN</td>\n",
       "      <td>NaN</td>\n",
       "      <td>1</td>\n",
       "    </tr>\n",
       "    <tr>\n",
       "      <th>2</th>\n",
       "      <td>2</td>\n",
       "      <td>2009-01-01</td>\n",
       "      <td>3</td>\n",
       "      <td>37380</td>\n",
       "      <td>38651</td>\n",
       "      <td>33615</td>\n",
       "      <td>53</td>\n",
       "      <td>1403</td>\n",
       "      <td>0</td>\n",
       "      <td>0</td>\n",
       "      <td>...</td>\n",
       "      <td>0</td>\n",
       "      <td>0</td>\n",
       "      <td>-160</td>\n",
       "      <td>0</td>\n",
       "      <td>0</td>\n",
       "      <td>NaN</td>\n",
       "      <td>NaN</td>\n",
       "      <td>NaN</td>\n",
       "      <td>NaN</td>\n",
       "      <td>1</td>\n",
       "    </tr>\n",
       "    <tr>\n",
       "      <th>3</th>\n",
       "      <td>3</td>\n",
       "      <td>2009-01-01</td>\n",
       "      <td>4</td>\n",
       "      <td>36426</td>\n",
       "      <td>37775</td>\n",
       "      <td>32526</td>\n",
       "      <td>50</td>\n",
       "      <td>1403</td>\n",
       "      <td>0</td>\n",
       "      <td>0</td>\n",
       "      <td>...</td>\n",
       "      <td>0</td>\n",
       "      <td>0</td>\n",
       "      <td>-160</td>\n",
       "      <td>0</td>\n",
       "      <td>0</td>\n",
       "      <td>NaN</td>\n",
       "      <td>NaN</td>\n",
       "      <td>NaN</td>\n",
       "      <td>NaN</td>\n",
       "      <td>1</td>\n",
       "    </tr>\n",
       "    <tr>\n",
       "      <th>4</th>\n",
       "      <td>4</td>\n",
       "      <td>2009-01-01</td>\n",
       "      <td>5</td>\n",
       "      <td>35687</td>\n",
       "      <td>37298</td>\n",
       "      <td>31877</td>\n",
       "      <td>50</td>\n",
       "      <td>1403</td>\n",
       "      <td>0</td>\n",
       "      <td>0</td>\n",
       "      <td>...</td>\n",
       "      <td>0</td>\n",
       "      <td>0</td>\n",
       "      <td>-160</td>\n",
       "      <td>0</td>\n",
       "      <td>0</td>\n",
       "      <td>NaN</td>\n",
       "      <td>NaN</td>\n",
       "      <td>NaN</td>\n",
       "      <td>NaN</td>\n",
       "      <td>1</td>\n",
       "    </tr>\n",
       "  </tbody>\n",
       "</table>\n",
       "<p>5 rows × 23 columns</p>\n",
       "</div>"
      ],
      "text/plain": [
       "   Unnamed: 0 settlement_date  settlement_period     nd    tsd  \\\n",
       "0           0      2009-01-01                  1  37910  38704   \n",
       "1           1      2009-01-01                  2  38047  38964   \n",
       "2           2      2009-01-01                  3  37380  38651   \n",
       "3           3      2009-01-01                  4  36426  37775   \n",
       "4           4      2009-01-01                  5  35687  37298   \n",
       "\n",
       "   england_wales_demand  embedded_wind_generation  embedded_wind_capacity  \\\n",
       "0                 33939                        54                    1403   \n",
       "1                 34072                        53                    1403   \n",
       "2                 33615                        53                    1403   \n",
       "3                 32526                        50                    1403   \n",
       "4                 31877                        50                    1403   \n",
       "\n",
       "   embedded_solar_generation  embedded_solar_capacity  ...  ifa2_flow  \\\n",
       "0                          0                        0  ...          0   \n",
       "1                          0                        0  ...          0   \n",
       "2                          0                        0  ...          0   \n",
       "3                          0                        0  ...          0   \n",
       "4                          0                        0  ...          0   \n",
       "\n",
       "   britned_flow  moyle_flow  east_west_flow  nemo_flow  nsl_flow  \\\n",
       "0             0        -161               0          0       NaN   \n",
       "1             0        -160               0          0       NaN   \n",
       "2             0        -160               0          0       NaN   \n",
       "3             0        -160               0          0       NaN   \n",
       "4             0        -160               0          0       NaN   \n",
       "\n",
       "   eleclink_flow  scottish_transfer  viking_flow  is_holiday  \n",
       "0            NaN                NaN          NaN           1  \n",
       "1            NaN                NaN          NaN           1  \n",
       "2            NaN                NaN          NaN           1  \n",
       "3            NaN                NaN          NaN           1  \n",
       "4            NaN                NaN          NaN           1  \n",
       "\n",
       "[5 rows x 23 columns]"
      ]
     },
     "execution_count": 2,
     "metadata": {},
     "output_type": "execute_result"
    }
   ],
   "source": [
    "data = pd.read_csv(r\"D:\\project\\Analytical_Projects\\Time_series_UK_Power_consumpation_forecast\\dataset\\historic_demand_2009_2024.csv\")\n",
    "data.head()"
   ]
  },
  {
   "cell_type": "code",
   "execution_count": 3,
   "id": "18d87744-f0bf-4ac1-a3ca-22afb819790c",
   "metadata": {},
   "outputs": [
    {
     "name": "stdout",
     "output_type": "stream",
     "text": [
      "<class 'pandas.core.frame.DataFrame'>\n",
      "RangeIndex: 272542 entries, 0 to 272541\n",
      "Data columns (total 23 columns):\n",
      " #   Column                     Non-Null Count   Dtype  \n",
      "---  ------                     --------------   -----  \n",
      " 0   Unnamed: 0                 272542 non-null  int64  \n",
      " 1   settlement_date            272542 non-null  object \n",
      " 2   settlement_period          272542 non-null  int64  \n",
      " 3   nd                         272542 non-null  int64  \n",
      " 4   tsd                        272542 non-null  int64  \n",
      " 5   england_wales_demand       272542 non-null  int64  \n",
      " 6   embedded_wind_generation   272542 non-null  int64  \n",
      " 7   embedded_wind_capacity     272542 non-null  int64  \n",
      " 8   embedded_solar_generation  272542 non-null  int64  \n",
      " 9   embedded_solar_capacity    272542 non-null  int64  \n",
      " 10  non_bm_stor                272542 non-null  int64  \n",
      " 11  pump_storage_pumping       272542 non-null  int64  \n",
      " 12  ifa_flow                   272542 non-null  int64  \n",
      " 13  ifa2_flow                  272542 non-null  int64  \n",
      " 14  britned_flow               272542 non-null  int64  \n",
      " 15  moyle_flow                 272542 non-null  int64  \n",
      " 16  east_west_flow             272542 non-null  int64  \n",
      " 17  nemo_flow                  272542 non-null  int64  \n",
      " 18  nsl_flow                   97246 non-null   float64\n",
      " 19  eleclink_flow              97246 non-null   float64\n",
      " 20  scottish_transfer          27118 non-null   float64\n",
      " 21  viking_flow                27118 non-null   float64\n",
      " 22  is_holiday                 272542 non-null  int64  \n",
      "dtypes: float64(4), int64(18), object(1)\n",
      "memory usage: 47.8+ MB\n"
     ]
    }
   ],
   "source": [
    "data.info()"
   ]
  },
  {
   "cell_type": "code",
   "execution_count": 4,
   "id": "fee2d1d7-2abb-475c-a8c2-f5f0493aeaf4",
   "metadata": {},
   "outputs": [
    {
     "name": "stdout",
     "output_type": "stream",
     "text": [
      "<class 'pandas.core.frame.DataFrame'>\n",
      "RangeIndex: 20000 entries, 0 to 19999\n",
      "Data columns (total 23 columns):\n",
      " #   Column                     Non-Null Count  Dtype  \n",
      "---  ------                     --------------  -----  \n",
      " 0   Unnamed: 0                 20000 non-null  int64  \n",
      " 1   settlement_date            20000 non-null  object \n",
      " 2   settlement_period          20000 non-null  int64  \n",
      " 3   nd                         20000 non-null  int64  \n",
      " 4   tsd                        20000 non-null  int64  \n",
      " 5   england_wales_demand       20000 non-null  int64  \n",
      " 6   embedded_wind_generation   20000 non-null  int64  \n",
      " 7   embedded_wind_capacity     20000 non-null  int64  \n",
      " 8   embedded_solar_generation  20000 non-null  int64  \n",
      " 9   embedded_solar_capacity    20000 non-null  int64  \n",
      " 10  non_bm_stor                20000 non-null  int64  \n",
      " 11  pump_storage_pumping       20000 non-null  int64  \n",
      " 12  ifa_flow                   20000 non-null  int64  \n",
      " 13  ifa2_flow                  20000 non-null  int64  \n",
      " 14  britned_flow               20000 non-null  int64  \n",
      " 15  moyle_flow                 20000 non-null  int64  \n",
      " 16  east_west_flow             20000 non-null  int64  \n",
      " 17  nemo_flow                  20000 non-null  int64  \n",
      " 18  nsl_flow                   0 non-null      float64\n",
      " 19  eleclink_flow              0 non-null      float64\n",
      " 20  scottish_transfer          0 non-null      float64\n",
      " 21  viking_flow                0 non-null      float64\n",
      " 22  is_holiday                 20000 non-null  int64  \n",
      "dtypes: float64(4), int64(18), object(1)\n",
      "memory usage: 3.5+ MB\n"
     ]
    }
   ],
   "source": [
    "data = data.drop_duplicates()\n",
    "data = data.head(20000)\n",
    "data.info()\n"
   ]
  },
  {
   "cell_type": "code",
   "execution_count": 5,
   "id": "b0c8418b-6ba9-4ac0-9af8-1b4a53bc5459",
   "metadata": {},
   "outputs": [
    {
     "data": {
      "text/html": [
       "<div>\n",
       "<style scoped>\n",
       "    .dataframe tbody tr th:only-of-type {\n",
       "        vertical-align: middle;\n",
       "    }\n",
       "\n",
       "    .dataframe tbody tr th {\n",
       "        vertical-align: top;\n",
       "    }\n",
       "\n",
       "    .dataframe thead th {\n",
       "        text-align: right;\n",
       "    }\n",
       "</style>\n",
       "<table border=\"1\" class=\"dataframe\">\n",
       "  <thead>\n",
       "    <tr style=\"text-align: right;\">\n",
       "      <th></th>\n",
       "      <th>settlement_date</th>\n",
       "      <th>tsd</th>\n",
       "    </tr>\n",
       "  </thead>\n",
       "  <tbody>\n",
       "    <tr>\n",
       "      <th>0</th>\n",
       "      <td>2009-01-01</td>\n",
       "      <td>38704</td>\n",
       "    </tr>\n",
       "    <tr>\n",
       "      <th>1</th>\n",
       "      <td>2009-01-01</td>\n",
       "      <td>38964</td>\n",
       "    </tr>\n",
       "    <tr>\n",
       "      <th>2</th>\n",
       "      <td>2009-01-01</td>\n",
       "      <td>38651</td>\n",
       "    </tr>\n",
       "    <tr>\n",
       "      <th>3</th>\n",
       "      <td>2009-01-01</td>\n",
       "      <td>37775</td>\n",
       "    </tr>\n",
       "    <tr>\n",
       "      <th>4</th>\n",
       "      <td>2009-01-01</td>\n",
       "      <td>37298</td>\n",
       "    </tr>\n",
       "  </tbody>\n",
       "</table>\n",
       "</div>"
      ],
      "text/plain": [
       "  settlement_date    tsd\n",
       "0      2009-01-01  38704\n",
       "1      2009-01-01  38964\n",
       "2      2009-01-01  38651\n",
       "3      2009-01-01  37775\n",
       "4      2009-01-01  37298"
      ]
     },
     "execution_count": 5,
     "metadata": {},
     "output_type": "execute_result"
    }
   ],
   "source": [
    "data_subset = data[['settlement_date','tsd']]\n",
    "\n",
    "data_subset.head()"
   ]
  },
  {
   "cell_type": "code",
   "execution_count": 6,
   "id": "7eca6e0c-31e5-438a-ac42-8a04f935d4fa",
   "metadata": {},
   "outputs": [
    {
     "name": "stdout",
     "output_type": "stream",
     "text": [
      "<class 'pandas.core.frame.DataFrame'>\n",
      "RangeIndex: 20000 entries, 0 to 19999\n",
      "Data columns (total 2 columns):\n",
      " #   Column  Non-Null Count  Dtype         \n",
      "---  ------  --------------  -----         \n",
      " 0   ds      20000 non-null  datetime64[ns]\n",
      " 1   y       20000 non-null  int64         \n",
      "dtypes: datetime64[ns](1), int64(1)\n",
      "memory usage: 312.6 KB\n"
     ]
    },
    {
     "name": "stderr",
     "output_type": "stream",
     "text": [
      "C:\\Users\\DELL\\AppData\\Local\\Temp\\ipykernel_17684\\3877947829.py:2: SettingWithCopyWarning: \n",
      "A value is trying to be set on a copy of a slice from a DataFrame.\n",
      "Try using .loc[row_indexer,col_indexer] = value instead\n",
      "\n",
      "See the caveats in the documentation: https://pandas.pydata.org/pandas-docs/stable/user_guide/indexing.html#returning-a-view-versus-a-copy\n",
      "  data_subset['settlement_date'] = pd.to_datetime(data_subset['settlement_date'])\n"
     ]
    }
   ],
   "source": [
    "# convert into date time\n",
    "data_subset['settlement_date'] = pd.to_datetime(data_subset['settlement_date'])\n",
    "data_subset = data_subset.rename(columns = {\"settlement_date\":\"ds\", \"tsd\":\"y\"})\n",
    "data_subset.info()"
   ]
  },
  {
   "cell_type": "code",
   "execution_count": 7,
   "id": "5e6c52eb-1dbd-4fe7-89db-3b020c96dd8f",
   "metadata": {},
   "outputs": [],
   "source": [
    "# model initialization\n",
    "model = Prophet()"
   ]
  },
  {
   "cell_type": "code",
   "execution_count": 8,
   "id": "a57accb2-798f-45a7-91c4-d2da3fa41bf8",
   "metadata": {},
   "outputs": [
    {
     "name": "stderr",
     "output_type": "stream",
     "text": [
      "20:35:55 - cmdstanpy - INFO - Chain [1] start processing\n",
      "20:36:01 - cmdstanpy - INFO - Chain [1] done processing\n"
     ]
    },
    {
     "data": {
      "text/plain": [
       "<prophet.forecaster.Prophet at 0x25f72b24b10>"
      ]
     },
     "execution_count": 8,
     "metadata": {},
     "output_type": "execute_result"
    }
   ],
   "source": [
    "# train\n",
    "model.fit(data_subset)"
   ]
  },
  {
   "cell_type": "code",
   "execution_count": 10,
   "id": "919e3f21-1d3c-44c8-b3e2-3fd855915255",
   "metadata": {},
   "outputs": [],
   "source": [
    "# create future date\n",
    "future = model.make_future_dataframe(periods=30)"
   ]
  },
  {
   "cell_type": "code",
   "execution_count": null,
   "id": "c78f3467-107c-4221-8a7a-2b2e5e986596",
   "metadata": {},
   "outputs": [],
   "source": [
    "forecast = "
   ]
  },
  {
   "cell_type": "code",
   "execution_count": null,
   "id": "4763520f-2400-49e9-b45d-78989c3a66a3",
   "metadata": {},
   "outputs": [],
   "source": []
  },
  {
   "cell_type": "code",
   "execution_count": null,
   "id": "efb7f072-3f95-4974-b4cf-0a2d76bb98b6",
   "metadata": {},
   "outputs": [],
   "source": []
  },
  {
   "cell_type": "code",
   "execution_count": null,
   "id": "55523ab5-8866-4a01-8330-5a10aa81d45b",
   "metadata": {},
   "outputs": [],
   "source": []
  },
  {
   "cell_type": "code",
   "execution_count": null,
   "id": "b96855a3-2f7a-4917-ab02-ba9d3103c5c4",
   "metadata": {},
   "outputs": [],
   "source": []
  },
  {
   "cell_type": "code",
   "execution_count": null,
   "id": "a802e05d-b6a1-440e-b3ff-e9d1b9342636",
   "metadata": {},
   "outputs": [],
   "source": []
  },
  {
   "cell_type": "code",
   "execution_count": null,
   "id": "88cc7ff2-0d1e-4d55-9bc3-9c2c56ac05d2",
   "metadata": {},
   "outputs": [],
   "source": []
  },
  {
   "cell_type": "code",
   "execution_count": null,
   "id": "b4361820-9aec-4ca8-9e12-6b6d3cbd7551",
   "metadata": {},
   "outputs": [],
   "source": []
  },
  {
   "cell_type": "code",
   "execution_count": null,
   "id": "2e729be9-04af-4e56-a879-1005474d42a1",
   "metadata": {},
   "outputs": [],
   "source": []
  },
  {
   "cell_type": "code",
   "execution_count": null,
   "id": "5d2e7545-5d4b-4c5f-a98e-8d1f0f468748",
   "metadata": {},
   "outputs": [],
   "source": []
  },
  {
   "cell_type": "code",
   "execution_count": null,
   "id": "4811884a-faab-48b4-82c2-4f5c5be11257",
   "metadata": {},
   "outputs": [],
   "source": []
  },
  {
   "cell_type": "code",
   "execution_count": null,
   "id": "54453ace-2215-420a-bc5a-bf4f5f1446f5",
   "metadata": {},
   "outputs": [],
   "source": []
  },
  {
   "cell_type": "code",
   "execution_count": null,
   "id": "056ce414-24c9-46c4-9237-ea5f1ca9e5c9",
   "metadata": {},
   "outputs": [],
   "source": []
  },
  {
   "cell_type": "code",
   "execution_count": null,
   "id": "b9b7dcb6-de3b-46c3-a8fd-259d77724497",
   "metadata": {},
   "outputs": [],
   "source": []
  },
  {
   "cell_type": "code",
   "execution_count": null,
   "id": "1cf02fdb-fdfb-4389-9c03-0c8321cd7064",
   "metadata": {},
   "outputs": [],
   "source": []
  },
  {
   "cell_type": "code",
   "execution_count": null,
   "id": "b89a130f-6ea1-41d4-9aaf-366047efa217",
   "metadata": {},
   "outputs": [],
   "source": []
  },
  {
   "cell_type": "code",
   "execution_count": null,
   "id": "6833586b-e4e1-4c31-8e64-70e30aa2c44c",
   "metadata": {},
   "outputs": [],
   "source": []
  }
 ],
 "metadata": {
  "kernelspec": {
   "display_name": "Python 3 (ipykernel)",
   "language": "python",
   "name": "python3"
  },
  "language_info": {
   "codemirror_mode": {
    "name": "ipython",
    "version": 3
   },
   "file_extension": ".py",
   "mimetype": "text/x-python",
   "name": "python",
   "nbconvert_exporter": "python",
   "pygments_lexer": "ipython3",
   "version": "3.11.7"
  }
 },
 "nbformat": 4,
 "nbformat_minor": 5
}
